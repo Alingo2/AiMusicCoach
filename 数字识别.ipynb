{
 "cells": [
  {
   "cell_type": "code",
   "execution_count": 8,
   "metadata": {},
   "outputs": [
    {
     "data": {
      "text/plain": [
       "'2.2.5'"
      ]
     },
     "execution_count": 8,
     "metadata": {},
     "output_type": "execute_result"
    }
   ],
   "source": [
    "import keras\n",
    "keras.__version__"
   ]
  },
  {
   "cell_type": "markdown",
   "metadata": {},
   "source": [
    "接下来加载MNIST数据集并进行可视化：\n",
    "MNIST 数据集预先加载在 Keras 库中，第一次调用需要下载，之后就可以直接使用。"
   ]
  },
  {
   "cell_type": "code",
   "execution_count": 9,
   "metadata": {},
   "outputs": [
    {
     "name": "stdout",
     "output_type": "stream",
     "text": [
      "train_imgs shape:  (60000, 28, 28) test_imgs shape:  (10000, 28, 28)\n"
     ]
    }
   ],
   "source": [
    "from keras.datasets import mnist\n",
    "from keras.utils import to_categorical\n",
    "# 加载数据集：\n",
    "(train_images, train_labels), (test_images, test_labels) = mnist.load_data()\n",
    "\n",
    "print('train_imgs shape: ', train_images.shape, 'test_imgs shape: ', test_images.shape)"
   ]
  },
  {
   "cell_type": "code",
   "execution_count": 10,
   "metadata": {},
   "outputs": [
    {
     "data": {
      "image/png": "[encoded data removed]",
      "text/plain": [
       "<Figure size 432x288 with 25 Axes>"
      ]
     },
     "metadata": {},
     "output_type": "display_data"
    }
   ],
   "source": [
    "# 可视化：\n",
    "import matplotlib.pyplot as plt\n",
    "\n",
    "fig, ax = plt.subplots(nrows=5, ncols=5, sharex='all', sharey='all')\n",
    "ax = ax.flatten()\n",
    "for i in range(25):\n",
    "    img = train_images[i].reshape(28, 28)\n",
    "    ax[i].set_title(train_labels[i])\n",
    "    ax[i].imshow(img, cmap='Greys', interpolation='nearest')\n",
    "ax[0].set_xticks([])\n",
    "ax[0].set_yticks([])\n",
    "plt.tight_layout()\n",
    "plt.show()"
   ]
  },
  {
   "cell_type": "markdown",
   "metadata": {},
   "source": [
    "对数据集进行归一化等，作为输入数据："
   ]
  },
  {
   "cell_type": "code",
   "execution_count": 11,
   "metadata": {},
   "outputs": [
    {
     "name": "stdout",
     "output_type": "stream",
     "text": [
      "(10000, 28, 28, 1) (10000, 10)\n"
     ]
    }
   ],
   "source": [
    "train_images = train_images.reshape((60000, 28, 28, 1))\n",
    "trainval_images = train_images.astype('float32') / 255\n",
    "\n",
    "test_images = test_images.reshape((10000, 28, 28, 1))\n",
    "test_images = test_images.astype('float32') / 255\n",
    "\n",
    "trainval_labels = to_categorical(train_labels)  # to_categorical 使用one_hot编码\n",
    "test_labels = to_categorical(test_labels)\n",
    "\n",
    "train_images = trainval_images[:50000]  # 训练集中拿出10000张作为验证集\n",
    "train_labels = trainval_labels[:50000]\n",
    "\n",
    "val_images = trainval_images[50000:]\n",
    "val_labels = trainval_labels[50000:]\n",
    "print(val_images.shape, val_labels.shape)"
   ]
  },
  {
   "cell_type": "markdown",
   "metadata": {},
   "source": [
    "接下来搭建CNN模型："
   ]
  },
  {
   "cell_type": "code",
   "execution_count": 12,
   "metadata": {},
   "outputs": [
    {
     "name": "stdout",
     "output_type": "stream",
     "text": [
      "WARNING:tensorflow:From C:\\anaconda3\\envs\\first_ml_py\\lib\\site-packages\\keras\\backend\\tensorflow_backend.py:66: The name tf.get_default_graph is deprecated. Please use tf.compat.v1.get_default_graph instead.\n",
      "\n",
      "WARNING:tensorflow:From C:\\anaconda3\\envs\\first_ml_py\\lib\\site-packages\\keras\\backend\\tensorflow_backend.py:541: The name tf.placeholder is deprecated. Please use tf.compat.v1.placeholder instead.\n",
      "\n",
      "WARNING:tensorflow:From C:\\anaconda3\\envs\\first_ml_py\\lib\\site-packages\\keras\\backend\\tensorflow_backend.py:4432: The name tf.random_uniform is deprecated. Please use tf.random.uniform instead.\n",
      "\n",
      "WARNING:tensorflow:From C:\\anaconda3\\envs\\first_ml_py\\lib\\site-packages\\keras\\backend\\tensorflow_backend.py:4267: The name tf.nn.max_pool is deprecated. Please use tf.nn.max_pool2d instead.\n",
      "\n",
      "Model: \"sequential_1\"\n",
      "_________________________________________________________________\n",
      "Layer (type)                 Output Shape              Param #   \n",
      "=================================================================\n",
      "conv2d_1 (Conv2D)            (None, 26, 26, 32)        320       \n",
      "_________________________________________________________________\n",
      "max_pooling2d_1 (MaxPooling2 (None, 13, 13, 32)        0         \n",
      "_________________________________________________________________\n",
      "conv2d_2 (Conv2D)            (None, 11, 11, 64)        18496     \n",
      "_________________________________________________________________\n",
      "max_pooling2d_2 (MaxPooling2 (None, 5, 5, 64)          0         \n",
      "_________________________________________________________________\n",
      "conv2d_3 (Conv2D)            (None, 3, 3, 64)          36928     \n",
      "=================================================================\n",
      "Total params: 55,744\n",
      "Trainable params: 55,744\n",
      "Non-trainable params: 0\n",
      "_________________________________________________________________\n"
     ]
    }
   ],
   "source": [
    "from keras import layers\n",
    "from keras import models\n",
    "\n",
    "# 卷积网络，用于特征提取\n",
    "model = models.Sequential()\n",
    "model.add(layers.Conv2D(32, (3, 3), activation='relu', input_shape=(28, 28, 1)))\n",
    "model.add(layers.MaxPooling2D((2, 2)))\n",
    "model.add(layers.Conv2D(64, (3, 3), activation='relu'))\n",
    "model.add(layers.MaxPooling2D((2, 2)))\n",
    "model.add(layers.Conv2D(64, (3, 3), activation='relu'))\n",
    "model.summary()"
   ]
  },
  {
   "cell_type": "code",
   "execution_count": 13,
   "metadata": {},
   "outputs": [
    {
     "name": "stdout",
     "output_type": "stream",
     "text": [
      "Model: \"sequential_1\"\n",
      "_________________________________________________________________\n",
      "Layer (type)                 Output Shape              Param #   \n",
      "=================================================================\n",
      "conv2d_1 (Conv2D)            (None, 26, 26, 32)        320       \n",
      "_________________________________________________________________\n",
      "max_pooling2d_1 (MaxPooling2 (None, 13, 13, 32)        0         \n",
      "_________________________________________________________________\n",
      "conv2d_2 (Conv2D)            (None, 11, 11, 64)        18496     \n",
      "_________________________________________________________________\n",
      "max_pooling2d_2 (MaxPooling2 (None, 5, 5, 64)          0         \n",
      "_________________________________________________________________\n",
      "conv2d_3 (Conv2D)            (None, 3, 3, 64)          36928     \n",
      "_________________________________________________________________\n",
      "flatten_1 (Flatten)          (None, 576)               0         \n",
      "_________________________________________________________________\n",
      "dense_1 (Dense)              (None, 64)                36928     \n",
      "_________________________________________________________________\n",
      "dense_2 (Dense)              (None, 10)                650       \n",
      "=================================================================\n",
      "Total params: 93,322\n",
      "Trainable params: 93,322\n",
      "Non-trainable params: 0\n",
      "_________________________________________________________________\n"
     ]
    }
   ],
   "source": [
    "# 添加全连接层，用于分类\n",
    "model.add(layers.Flatten())\n",
    "model.add(layers.Dense(64, activation='relu'))\n",
    "model.add(layers.Dense(10, activation='softmax'))  # 最后一层使用softmax作为激活函数\n",
    "model.summary()"
   ]
  },
  {
   "cell_type": "markdown",
   "metadata": {},
   "source": [
    "模型编译、训练："
   ]
  },
  {
   "cell_type": "code",
   "execution_count": 14,
   "metadata": {},
   "outputs": [
    {
     "name": "stdout",
     "output_type": "stream",
     "text": [
      "WARNING:tensorflow:From C:\\anaconda3\\envs\\first_ml_py\\lib\\site-packages\\keras\\optimizers.py:793: The name tf.train.Optimizer is deprecated. Please use tf.compat.v1.train.Optimizer instead.\n",
      "\n",
      "WARNING:tensorflow:From C:\\anaconda3\\envs\\first_ml_py\\lib\\site-packages\\keras\\backend\\tensorflow_backend.py:3576: The name tf.log is deprecated. Please use tf.math.log instead.\n",
      "\n",
      "WARNING:tensorflow:From C:\\anaconda3\\envs\\first_ml_py\\lib\\site-packages\\tensorflow\\python\\ops\\math_grad.py:1250: add_dispatch_support.<locals>.wrapper (from tensorflow.python.ops.array_ops) is deprecated and will be removed in a future version.\n",
      "Instructions for updating:\n",
      "Use tf.where in 2.0, which has the same broadcast rule as np.where\n",
      "WARNING:tensorflow:From C:\\anaconda3\\envs\\first_ml_py\\lib\\site-packages\\keras\\backend\\tensorflow_backend.py:1033: The name tf.assign_add is deprecated. Please use tf.compat.v1.assign_add instead.\n",
      "\n",
      "Epoch 1/5\n",
      "50000/50000 [==============================] - 28s 562us/step - loss: 0.1935 - acc: 0.9385\n",
      "Epoch 2/5\n",
      "50000/50000 [==============================] - 30s 600us/step - loss: 0.0530 - acc: 0.9833\n",
      "Epoch 3/5\n",
      "50000/50000 [==============================] - 24s 473us/step - loss: 0.0363 - acc: 0.9886\n",
      "Epoch 4/5\n",
      "50000/50000 [==============================] - 24s 474us/step - loss: 0.0270 - acc: 0.9915\n",
      "Epoch 5/5\n",
      "50000/50000 [==============================] - 25s 500us/step - loss: 0.0214 - acc: 0.9932\n"
     ]
    }
   ],
   "source": [
    "from keras.callbacks import ModelCheckpoint\n",
    "#编译\n",
    "model.compile(optimizer='rmsprop',               # 优化器\n",
    "              loss='categorical_crossentropy',   # 损失函数\n",
    "              metrics=['accuracy'])              # 监控指标\n",
    "\n",
    "# 训练 \n",
    "history = model.fit(train_images, train_labels, epochs=5, batch_size=64)"
   ]
  },
  {
   "cell_type": "markdown",
   "metadata": {},
   "source": [
    "验证模型性能"
   ]
  },
  {
   "cell_type": "code",
   "execution_count": 15,
   "metadata": {},
   "outputs": [
    {
     "name": "stdout",
     "output_type": "stream",
     "text": [
      "10000/10000 [==============================] - 3s 253us/step\n",
      "0.9906\n",
      "10000/10000 [==============================] - 2s 170us/step\n",
      "0.9917\n"
     ]
    }
   ],
   "source": [
    "val_loss, val_acc = model.evaluate(val_images, val_labels)\n",
    "print(val_acc)   # 在验证集上的准确率\n",
    "test_loss, test_acc = model.evaluate(test_images, test_labels)\n",
    "print(test_acc)"
   ]
  },
  {
   "cell_type": "markdown",
   "metadata": {},
   "source": [
    "模型保存、加载与预测"
   ]
  },
  {
   "cell_type": "code",
   "execution_count": 38,
   "metadata": {},
   "outputs": [
    {
     "name": "stdout",
     "output_type": "stream",
     "text": [
      "predict image res: 7, lable: 7, predcit True!\n",
      "predict image res: 2, lable: 2, predcit True!\n",
      "predict image res: 1, lable: 1, predcit True!\n",
      "predict image res: 0, lable: 0, predcit True!\n",
      "predict image res: 4, lable: 4, predcit True!\n",
      "predict image res: 1, lable: 1, predcit True!\n",
      "predict image res: 4, lable: 4, predcit True!\n",
      "predict image res: 9, lable: 9, predcit True!\n",
      "predict image res: 5, lable: 5, predcit True!\n",
      "predict image res: 9, lable: 9, predcit True!\n"
     ]
    }
   ],
   "source": [
    "from keras.models import load_model\n",
    "import numpy as np\n",
    "# 保存\n",
    "model.save('./model_mnist.h5') \n",
    "\n",
    "# 加载\n",
    "model = load_model('./model_mnist.h5')\n",
    "\n",
    "# 预测\n",
    "for i in range(10):\n",
    "    im = test_images[i]\n",
    "    im = np.expand_dims(im, axis=0)         # 因为模型的输入是（None， 28， 28， 1），所以必须保持shape一致\n",
    "    im_label = np.argmax(test_labels[i])    # test_labels是one_hot编码后的数组，其中最大值的索引是其label\n",
    "    pred_res = np.argmax(model.predict(im)) # 最大值的索引是其预测数字\n",
    "    #print(pred_res, im_label)\n",
    "    \n",
    "    print('predict image res: %d, lable: %d, predcit %s!'%(pred_res, im_label, str(pred_res==im_label)))"
   ]
  },
  {
   "cell_type": "code",
   "execution_count": 77,
   "metadata": {
    "scrolled": false
   },
   "outputs": [
    {
     "name": "stdout",
     "output_type": "stream",
     "text": [
      "predict image res: 9, lable: 4, predcit True!\n"
     ]
    },
    {
     "data": {
      "image/png": "[encoded data removed]",
      "text/plain": [
       "<Figure size 432x288 with 1 Axes>"
      ]
     },
     "metadata": {
      "needs_background": "light"
     },
     "output_type": "display_data"
    }
   ],
   "source": [
    "from PIL import Image\n",
    "import numpy as np \n",
    "img = Image.open('1.png')\n",
    "#print(test_images[0])\n",
    "#img = plt.imread(\"4.png\")\n",
    "#plt.imshow(img)\n",
    "lena = img.convert('L')\n",
    "lena=np.array(lena)\n",
    "#lena=lena.T\n",
    "lena.reshape(-1,28,28,1)\n",
    "lena = 1-lena.astype('float32') / 255\n",
    "plt.imshow(lena)\n",
    "#print(lena)\n",
    "im0 = lena\n",
    "#lena=[lena]\n",
    "im0 = np.expand_dims(im0, axis=0)         # 因为模型的输入是（None， 28， 28， 1），所以必须保持shape一致\n",
    "im0 = np.expand_dims(im0, axis=3) \n",
    "im_label0 = 4    # test_labels是one_hot编码后的数组，其中最大值的索引是其label\n",
    "pred_res0 = np.argmax(model.predict(im0)) # 最大值的索引是其预测数字\n",
    "#print(pred_res, im_label)\n",
    "    \n",
    "print('predict image res: %d, lable: %d, predcit %s!'%(pred_res0, im_label0, str(pred_res==im_label)))"
   ]
  },
  {
   "cell_type": "code",
   "execution_count": null,
   "metadata": {
    "collapsed": true
   },
   "outputs": [],
   "source": []
  },
  {
   "cell_type": "code",
   "execution_count": null,
   "metadata": {
    "collapsed": true
   },
   "outputs": [],
   "source": []
  }
 ],
 "metadata": {
  "kernelspec": {
   "display_name": "Python 3",
   "language": "python",
   "name": "python3"
  },
  "language_info": {
   "codemirror_mode": {
    "name": "ipython",
    "version": 3
   },
   "file_extension": ".py",
   "mimetype": "text/x-python",
   "name": "python",
   "nbconvert_exporter": "python",
   "pygments_lexer": "ipython3",
   "version": "3.6.3"
  }
 },
 "nbformat": 4,
 "nbformat_minor": 2
}
