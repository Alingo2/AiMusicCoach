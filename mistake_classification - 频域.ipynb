{
 "cells": [
  {
   "cell_type": "code",
   "execution_count": 405,
   "metadata": {
    "collapsed": true
   },
   "outputs": [],
   "source": [
    "from keras import models\n",
    "from keras import layers\n",
    "import numpy as np\n",
    "import math\n",
    "import json"
   ]
  },
  {
   "cell_type": "code",
   "execution_count": 406,
   "metadata": {
    "collapsed": true
   },
   "outputs": [],
   "source": [
    "model = models.Sequential()\n",
    "model.add(layers.Dense(8,activation='relu',input_shape=(10000,)))\n",
    "model.add(layers.Dense(16,activation='relu',input_shape=(10000,)))\n",
    "model.add(layers.Dense(2,activation='sigmoid'))"
   ]
  },
  {
   "cell_type": "code",
   "execution_count": 407,
   "metadata": {
    "collapsed": true
   },
   "outputs": [],
   "source": [
    "model.compile(optimizer='rmsprop',\n",
    "             loss='categorical_crossentropy',\n",
    "             metrics=['accuracy'])"
   ]
  },
  {
   "cell_type": "code",
   "execution_count": 408,
   "metadata": {},
   "outputs": [
    {
     "name": "stdout",
     "output_type": "stream",
     "text": [
      "80\n"
     ]
    }
   ],
   "source": [
    "obj_r=open(\"./test/json/wrong_train_fdomain.json\")\n",
    "obj_r2 = open(\"./test/json/wrong_train_type_fdomain.json\")\n",
    "input_train = json.load(obj_r)\n",
    "input_train = np.array(input_train)\n",
    "print(len(input_train))\n",
    "y = json.load(obj_r2)\n"
   ]
  },
  {
   "cell_type": "code",
   "execution_count": 409,
   "metadata": {},
   "outputs": [
    {
     "name": "stdout",
     "output_type": "stream",
     "text": [
      "[[0. 1.]\n",
      " [0. 1.]\n",
      " [0. 1.]\n",
      " [1. 0.]\n",
      " [0. 1.]\n",
      " [0. 1.]\n",
      " [0. 1.]\n",
      " [0. 1.]\n",
      " [0. 1.]\n",
      " [0. 1.]\n",
      " [0. 1.]\n",
      " [0. 1.]\n",
      " [0. 1.]\n",
      " [0. 1.]\n",
      " [0. 1.]\n",
      " [0. 1.]\n",
      " [0. 1.]\n",
      " [0. 1.]\n",
      " [0. 1.]\n",
      " [0. 1.]\n",
      " [1. 0.]\n",
      " [0. 1.]\n",
      " [0. 1.]\n",
      " [0. 1.]\n",
      " [0. 1.]\n",
      " [1. 0.]\n",
      " [0. 1.]\n",
      " [1. 0.]\n",
      " [1. 0.]\n",
      " [0. 1.]\n",
      " [1. 0.]\n",
      " [0. 1.]\n",
      " [1. 0.]\n",
      " [0. 1.]\n",
      " [0. 1.]\n",
      " [0. 1.]\n",
      " [0. 1.]\n",
      " [0. 1.]\n",
      " [1. 0.]\n",
      " [1. 0.]\n",
      " [0. 1.]\n",
      " [0. 1.]\n",
      " [0. 1.]\n",
      " [0. 1.]\n",
      " [1. 0.]\n",
      " [0. 1.]\n",
      " [0. 1.]\n",
      " [1. 0.]\n",
      " [0. 1.]\n",
      " [0. 1.]\n",
      " [0. 1.]\n",
      " [0. 1.]\n",
      " [0. 1.]\n",
      " [0. 1.]\n",
      " [1. 0.]\n",
      " [0. 1.]\n",
      " [0. 1.]\n",
      " [0. 1.]\n",
      " [0. 1.]\n",
      " [0. 1.]\n",
      " [1. 0.]\n",
      " [1. 0.]\n",
      " [0. 1.]\n",
      " [1. 0.]\n",
      " [1. 0.]\n",
      " [0. 1.]\n",
      " [1. 0.]\n",
      " [0. 1.]\n",
      " [1. 0.]\n",
      " [0. 1.]\n",
      " [0. 1.]\n",
      " [0. 1.]\n",
      " [0. 1.]\n",
      " [0. 1.]\n",
      " [1. 0.]\n",
      " [1. 0.]\n",
      " [0. 1.]\n",
      " [0. 1.]\n",
      " [1. 0.]\n",
      " [0. 1.]]\n"
     ]
    }
   ],
   "source": [
    "y_train = np.zeros((len(y),2))\n",
    "\n",
    "for i in range(len(y)):\n",
    "    if y[i] != 0:\n",
    "        y_train[i][1] = 1\n",
    "    else:\n",
    "        y_train[i][0] = 1\n",
    "print(y_train)\n",
    "x_val=input_train[0:20]\n",
    "y_val=y_train[0:20]\n",
    "input_train=input_train[20:]\n",
    "y_train=y_train[20:]\n"
   ]
  },
  {
   "cell_type": "code",
   "execution_count": 410,
   "metadata": {
    "scrolled": false
   },
   "outputs": [
    {
     "name": "stdout",
     "output_type": "stream",
     "text": [
      "Train on 60 samples, validate on 20 samples\n",
      "Epoch 1/100\n",
      "60/60 [==============================] - 2s 28ms/step - loss: 2.9651 - acc: 0.5667 - val_loss: 0.3310 - val_acc: 0.9500\n",
      "Epoch 2/100\n",
      "60/60 [==============================] - 0s 615us/step - loss: 1.1048 - acc: 0.6667 - val_loss: 0.5015 - val_acc: 0.9500\n",
      "Epoch 3/100\n",
      "60/60 [==============================] - 0s 798us/step - loss: 0.8353 - acc: 0.6667 - val_loss: 0.4443 - val_acc: 0.9500\n",
      "Epoch 4/100\n",
      "60/60 [==============================] - 0s 765us/step - loss: 0.8136 - acc: 0.6667 - val_loss: 0.3894 - val_acc: 0.9500\n",
      "Epoch 5/100\n",
      "60/60 [==============================] - 0s 698us/step - loss: 0.7927 - acc: 0.6667 - val_loss: 0.4294 - val_acc: 0.9500\n",
      "Epoch 6/100\n",
      "60/60 [==============================] - 0s 664us/step - loss: 0.7838 - acc: 0.6667 - val_loss: 0.3937 - val_acc: 0.9500\n",
      "Epoch 7/100\n",
      "60/60 [==============================] - 0s 664us/step - loss: 0.7290 - acc: 0.6833 - val_loss: 0.4654 - val_acc: 0.9500\n",
      "Epoch 8/100\n",
      "60/60 [==============================] - 0s 715us/step - loss: 0.7383 - acc: 0.6667 - val_loss: 0.4153 - val_acc: 0.9500\n",
      "Epoch 9/100\n",
      "60/60 [==============================] - 0s 665us/step - loss: 0.6319 - acc: 0.6833 - val_loss: 0.3315 - val_acc: 0.9500\n",
      "Epoch 10/100\n",
      "60/60 [==============================] - 0s 765us/step - loss: 0.5960 - acc: 0.6833 - val_loss: 0.2570 - val_acc: 0.9500\n",
      "Epoch 11/100\n",
      "60/60 [==============================] - 0s 598us/step - loss: 0.6516 - acc: 0.6333 - val_loss: 0.5334 - val_acc: 0.9000\n",
      "Epoch 12/100\n",
      "60/60 [==============================] - 0s 565us/step - loss: 0.6033 - acc: 0.6833 - val_loss: 0.2183 - val_acc: 0.9000\n",
      "Epoch 13/100\n",
      "60/60 [==============================] - 0s 765us/step - loss: 0.5641 - acc: 0.7000 - val_loss: 0.3982 - val_acc: 0.8500\n",
      "Epoch 14/100\n",
      "60/60 [==============================] - 0s 798us/step - loss: 0.5459 - acc: 0.7667 - val_loss: 0.2996 - val_acc: 0.9000\n",
      "Epoch 15/100\n",
      "60/60 [==============================] - 0s 632us/step - loss: 0.5416 - acc: 0.7667 - val_loss: 0.2884 - val_acc: 0.9000\n",
      "Epoch 16/100\n",
      "60/60 [==============================] - 0s 615us/step - loss: 0.5401 - acc: 0.7667 - val_loss: 0.2912 - val_acc: 0.9000\n",
      "Epoch 17/100\n",
      "60/60 [==============================] - 0s 665us/step - loss: 0.5406 - acc: 0.7667 - val_loss: 0.2855 - val_acc: 0.8500\n",
      "Epoch 18/100\n",
      "60/60 [==============================] - 0s 615us/step - loss: 0.5434 - acc: 0.7167 - val_loss: 0.2993 - val_acc: 0.9000\n",
      "Epoch 19/100\n",
      "60/60 [==============================] - 0s 698us/step - loss: 0.5383 - acc: 0.7667 - val_loss: 0.2975 - val_acc: 0.9000\n",
      "Epoch 20/100\n",
      "60/60 [==============================] - 0s 698us/step - loss: 0.5398 - acc: 0.7500 - val_loss: 0.2981 - val_acc: 0.9000\n",
      "Epoch 21/100\n",
      "60/60 [==============================] - 0s 731us/step - loss: 0.5398 - acc: 0.7333 - val_loss: 0.5612 - val_acc: 0.7500\n",
      "Epoch 22/100\n",
      "60/60 [==============================] - 0s 715us/step - loss: 0.5893 - acc: 0.7167 - val_loss: 0.2534 - val_acc: 0.8500\n",
      "Epoch 23/100\n",
      "60/60 [==============================] - 0s 764us/step - loss: 0.5353 - acc: 0.7667 - val_loss: 0.2367 - val_acc: 0.8500\n",
      "Epoch 24/100\n",
      "60/60 [==============================] - 0s 665us/step - loss: 0.5340 - acc: 0.7667 - val_loss: 0.2372 - val_acc: 0.8500\n",
      "Epoch 25/100\n",
      "60/60 [==============================] - 0s 715us/step - loss: 0.5344 - acc: 0.7667 - val_loss: 0.2553 - val_acc: 0.8500\n",
      "Epoch 26/100\n",
      "60/60 [==============================] - 0s 665us/step - loss: 0.5340 - acc: 0.7667 - val_loss: 0.2829 - val_acc: 0.8500\n",
      "Epoch 27/100\n",
      "60/60 [==============================] - 0s 632us/step - loss: 0.5328 - acc: 0.7667 - val_loss: 0.2622 - val_acc: 0.8500\n",
      "Epoch 28/100\n",
      "60/60 [==============================] - 0s 765us/step - loss: 0.5392 - acc: 0.7500 - val_loss: 0.2561 - val_acc: 0.8500\n",
      "Epoch 29/100\n",
      "60/60 [==============================] - 0s 632us/step - loss: 0.5301 - acc: 0.7667 - val_loss: 0.2499 - val_acc: 0.9000\n",
      "Epoch 30/100\n",
      "60/60 [==============================] - 0s 831us/step - loss: 0.5320 - acc: 0.7667 - val_loss: 0.2805 - val_acc: 0.9000\n",
      "Epoch 31/100\n",
      "60/60 [==============================] - 0s 698us/step - loss: 0.5314 - acc: 0.7667 - val_loss: 0.2555 - val_acc: 0.9000\n",
      "Epoch 32/100\n",
      "60/60 [==============================] - 0s 665us/step - loss: 0.5301 - acc: 0.7667 - val_loss: 0.2850 - val_acc: 0.9000\n",
      "Epoch 33/100\n",
      "60/60 [==============================] - 0s 748us/step - loss: 0.5292 - acc: 0.7667 - val_loss: 0.2785 - val_acc: 0.8500\n",
      "Epoch 34/100\n",
      "60/60 [==============================] - 0s 632us/step - loss: 0.5382 - acc: 0.7500 - val_loss: 0.2777 - val_acc: 0.9000\n",
      "Epoch 35/100\n",
      "60/60 [==============================] - 0s 698us/step - loss: 0.5285 - acc: 0.7667 - val_loss: 0.2926 - val_acc: 0.9000\n",
      "Epoch 36/100\n",
      "60/60 [==============================] - 0s 781us/step - loss: 0.5309 - acc: 0.7667 - val_loss: 0.2872 - val_acc: 0.9000\n",
      "Epoch 37/100\n",
      "60/60 [==============================] - 0s 848us/step - loss: 1.6096 - acc: 0.7333 - val_loss: 0.2986 - val_acc: 0.8500\n",
      "Epoch 38/100\n",
      "60/60 [==============================] - 0s 781us/step - loss: 0.5282 - acc: 0.7500 - val_loss: 0.2807 - val_acc: 0.8500\n",
      "Epoch 39/100\n",
      "60/60 [==============================] - 0s 682us/step - loss: 0.5213 - acc: 0.7500 - val_loss: 0.2807 - val_acc: 0.8500\n",
      "Epoch 40/100\n",
      "60/60 [==============================] - 0s 665us/step - loss: 0.5241 - acc: 0.7333 - val_loss: 0.2999 - val_acc: 0.8500\n",
      "Epoch 41/100\n",
      "60/60 [==============================] - 0s 549us/step - loss: 0.5205 - acc: 0.7667 - val_loss: 0.3473 - val_acc: 0.8500\n",
      "Epoch 42/100\n",
      "60/60 [==============================] - 0s 731us/step - loss: 0.5174 - acc: 0.7667 - val_loss: 0.3365 - val_acc: 0.8500\n",
      "Epoch 43/100\n",
      "60/60 [==============================] - 0s 648us/step - loss: 0.5185 - acc: 0.7667 - val_loss: 0.2306 - val_acc: 0.9000\n",
      "Epoch 44/100\n",
      "60/60 [==============================] - 0s 615us/step - loss: 0.5160 - acc: 0.7667 - val_loss: 0.3121 - val_acc: 0.8500\n",
      "Epoch 45/100\n",
      "60/60 [==============================] - 0s 665us/step - loss: 0.5167 - acc: 0.7667 - val_loss: 0.3061 - val_acc: 0.8500\n",
      "Epoch 46/100\n",
      "60/60 [==============================] - 0s 615us/step - loss: 0.5171 - acc: 0.7667 - val_loss: 0.2946 - val_acc: 0.8500\n",
      "Epoch 47/100\n",
      "60/60 [==============================] - 0s 565us/step - loss: 0.5144 - acc: 0.7667 - val_loss: 0.2974 - val_acc: 0.8500\n",
      "Epoch 48/100\n",
      "60/60 [==============================] - 0s 814us/step - loss: 0.5260 - acc: 0.7333 - val_loss: 0.3095 - val_acc: 0.8500\n",
      "Epoch 49/100\n",
      "60/60 [==============================] - 0s 765us/step - loss: 0.5157 - acc: 0.7667 - val_loss: 0.2980 - val_acc: 0.8500\n",
      "Epoch 50/100\n",
      "60/60 [==============================] - 0s 582us/step - loss: 0.5137 - acc: 0.7667 - val_loss: 0.2901 - val_acc: 0.9000\n",
      "Epoch 51/100\n",
      "60/60 [==============================] - 0s 731us/step - loss: 0.5148 - acc: 0.7667 - val_loss: 0.3274 - val_acc: 0.9000\n",
      "Epoch 52/100\n",
      "60/60 [==============================] - 0s 565us/step - loss: 0.5135 - acc: 0.7667 - val_loss: 0.2804 - val_acc: 0.9000\n",
      "Epoch 53/100\n",
      "60/60 [==============================] - 0s 598us/step - loss: 0.5144 - acc: 0.7667 - val_loss: 0.3111 - val_acc: 0.9000\n",
      "Epoch 54/100\n",
      "60/60 [==============================] - 0s 615us/step - loss: 0.5135 - acc: 0.7667 - val_loss: 0.3996 - val_acc: 0.8500\n",
      "Epoch 55/100\n",
      "60/60 [==============================] - 0s 648us/step - loss: 0.5160 - acc: 0.7500 - val_loss: 0.4565 - val_acc: 0.9500\n",
      "Epoch 56/100\n",
      "60/60 [==============================] - 0s 814us/step - loss: 0.6017 - acc: 0.7500 - val_loss: 0.3793 - val_acc: 0.8500\n",
      "Epoch 57/100\n",
      "60/60 [==============================] - 0s 615us/step - loss: 0.5168 - acc: 0.7500 - val_loss: 0.3742 - val_acc: 0.8500\n",
      "Epoch 58/100\n",
      "60/60 [==============================] - 0s 648us/step - loss: 0.5162 - acc: 0.7500 - val_loss: 0.3690 - val_acc: 0.8500\n",
      "Epoch 59/100\n",
      "60/60 [==============================] - 0s 615us/step - loss: 0.5110 - acc: 0.7667 - val_loss: 0.3774 - val_acc: 0.8500\n",
      "Epoch 60/100\n",
      "60/60 [==============================] - 0s 731us/step - loss: 0.5171 - acc: 0.7500 - val_loss: 0.3690 - val_acc: 0.8500\n",
      "Epoch 61/100\n",
      "60/60 [==============================] - 0s 781us/step - loss: 0.5161 - acc: 0.7500 - val_loss: 0.3646 - val_acc: 0.8500\n"
     ]
    },
    {
     "name": "stdout",
     "output_type": "stream",
     "text": [
      "Epoch 62/100\n",
      "60/60 [==============================] - 0s 615us/step - loss: 0.5158 - acc: 0.7500 - val_loss: 0.3663 - val_acc: 0.8500\n",
      "Epoch 63/100\n",
      "60/60 [==============================] - 0s 582us/step - loss: 0.5117 - acc: 0.7667 - val_loss: 0.3673 - val_acc: 0.8500\n",
      "Epoch 64/100\n",
      "60/60 [==============================] - 0s 648us/step - loss: 0.5141 - acc: 0.7667 - val_loss: 0.3694 - val_acc: 0.8500\n",
      "Epoch 65/100\n",
      "60/60 [==============================] - 0s 632us/step - loss: 0.5086 - acc: 0.7667 - val_loss: 0.3685 - val_acc: 0.8500\n",
      "Epoch 66/100\n",
      "60/60 [==============================] - 0s 598us/step - loss: 0.5085 - acc: 0.7667 - val_loss: 0.3676 - val_acc: 0.8500\n",
      "Epoch 67/100\n",
      "60/60 [==============================] - 0s 715us/step - loss: 0.5084 - acc: 0.7667 - val_loss: 0.3490 - val_acc: 0.8500\n",
      "Epoch 68/100\n",
      "60/60 [==============================] - 0s 715us/step - loss: 0.5076 - acc: 0.7667 - val_loss: 0.3608 - val_acc: 0.8500\n",
      "Epoch 69/100\n",
      "60/60 [==============================] - 0s 648us/step - loss: 0.5082 - acc: 0.7500 - val_loss: 0.3889 - val_acc: 0.8500\n",
      "Epoch 70/100\n",
      "60/60 [==============================] - 0s 582us/step - loss: 0.5075 - acc: 0.7667 - val_loss: 0.3951 - val_acc: 0.8500\n",
      "Epoch 71/100\n",
      "60/60 [==============================] - 0s 681us/step - loss: 0.5060 - acc: 0.7667 - val_loss: 0.3865 - val_acc: 0.8500\n",
      "Epoch 72/100\n",
      "60/60 [==============================] - 0s 914us/step - loss: 0.5052 - acc: 0.7667 - val_loss: 0.3566 - val_acc: 0.8500\n",
      "Epoch 73/100\n",
      "60/60 [==============================] - 0s 681us/step - loss: 0.5146 - acc: 0.7500 - val_loss: 0.3943 - val_acc: 0.8500\n",
      "Epoch 74/100\n",
      "60/60 [==============================] - 0s 615us/step - loss: 0.5117 - acc: 0.7500 - val_loss: 0.3764 - val_acc: 0.8500\n",
      "Epoch 75/100\n",
      "60/60 [==============================] - 0s 582us/step - loss: 0.5542 - acc: 0.7167 - val_loss: 0.5396 - val_acc: 0.8500\n",
      "Epoch 76/100\n",
      "60/60 [==============================] - 0s 549us/step - loss: 0.5193 - acc: 0.7667 - val_loss: 0.4453 - val_acc: 0.8500\n",
      "Epoch 77/100\n",
      "60/60 [==============================] - 0s 665us/step - loss: 0.5100 - acc: 0.7333 - val_loss: 0.4386 - val_acc: 0.8500\n",
      "Epoch 78/100\n",
      "60/60 [==============================] - 0s 615us/step - loss: 0.5079 - acc: 0.7667 - val_loss: 0.3972 - val_acc: 0.8000\n",
      "Epoch 79/100\n",
      "60/60 [==============================] - 0s 549us/step - loss: 0.5104 - acc: 0.7500 - val_loss: 0.3861 - val_acc: 0.8000\n",
      "Epoch 80/100\n",
      "60/60 [==============================] - 0s 731us/step - loss: 0.5041 - acc: 0.7667 - val_loss: 0.3747 - val_acc: 0.8500\n",
      "Epoch 81/100\n",
      "60/60 [==============================] - 0s 632us/step - loss: 0.5031 - acc: 0.7667 - val_loss: 0.3799 - val_acc: 0.8500\n",
      "Epoch 82/100\n",
      "60/60 [==============================] - 0s 698us/step - loss: 0.5043 - acc: 0.7667 - val_loss: 0.3876 - val_acc: 0.8500\n",
      "Epoch 83/100\n",
      "60/60 [==============================] - 0s 798us/step - loss: 0.5016 - acc: 0.7667 - val_loss: 0.3685 - val_acc: 0.8500\n",
      "Epoch 84/100\n",
      "60/60 [==============================] - 0s 648us/step - loss: 0.5002 - acc: 0.7667 - val_loss: 0.3778 - val_acc: 0.8500\n",
      "Epoch 85/100\n",
      "60/60 [==============================] - 0s 731us/step - loss: 0.4999 - acc: 0.7667 - val_loss: 0.3688 - val_acc: 0.8500\n",
      "Epoch 86/100\n",
      "60/60 [==============================] - 0s 698us/step - loss: 0.5008 - acc: 0.7667 - val_loss: 0.3929 - val_acc: 0.8500\n",
      "Epoch 87/100\n",
      "60/60 [==============================] - 0s 715us/step - loss: 0.5003 - acc: 0.7667 - val_loss: 0.3971 - val_acc: 0.8500\n",
      "Epoch 88/100\n",
      "60/60 [==============================] - 0s 632us/step - loss: 0.5004 - acc: 0.7667 - val_loss: 0.3828 - val_acc: 0.8500\n",
      "Epoch 89/100\n",
      "60/60 [==============================] - 0s 648us/step - loss: 0.5002 - acc: 0.7667 - val_loss: 0.3889 - val_acc: 0.8500\n",
      "Epoch 90/100\n",
      "60/60 [==============================] - 0s 815us/step - loss: 0.5072 - acc: 0.7500 - val_loss: 0.3875 - val_acc: 0.8500\n",
      "Epoch 91/100\n",
      "60/60 [==============================] - 0s 814us/step - loss: 0.5071 - acc: 0.7500 - val_loss: 0.3887 - val_acc: 0.8500\n",
      "Epoch 92/100\n",
      "60/60 [==============================] - 0s 815us/step - loss: 0.4979 - acc: 0.7667 - val_loss: 0.3904 - val_acc: 0.8500\n",
      "Epoch 93/100\n",
      "60/60 [==============================] - 0s 781us/step - loss: 0.4989 - acc: 0.7667 - val_loss: 0.3370 - val_acc: 0.8500\n",
      "Epoch 94/100\n",
      "60/60 [==============================] - 0s 748us/step - loss: 0.4982 - acc: 0.7667 - val_loss: 0.3898 - val_acc: 0.8500\n",
      "Epoch 95/100\n",
      "60/60 [==============================] - 0s 731us/step - loss: 0.5015 - acc: 0.7667 - val_loss: 0.3768 - val_acc: 0.8500\n",
      "Epoch 96/100\n",
      "60/60 [==============================] - 0s 665us/step - loss: 0.5062 - acc: 0.7500 - val_loss: 0.3828 - val_acc: 0.8500\n",
      "Epoch 97/100\n",
      "60/60 [==============================] - 0s 698us/step - loss: 0.4965 - acc: 0.7667 - val_loss: 0.3696 - val_acc: 0.8500\n",
      "Epoch 98/100\n",
      "60/60 [==============================] - 0s 565us/step - loss: 0.5960 - acc: 0.7667 - val_loss: 0.4165 - val_acc: 0.9000\n",
      "Epoch 99/100\n",
      "60/60 [==============================] - 0s 582us/step - loss: 0.4953 - acc: 0.7667 - val_loss: 0.4155 - val_acc: 0.9000\n",
      "Epoch 100/100\n",
      "60/60 [==============================] - 0s 798us/step - loss: 0.4943 - acc: 0.7667 - val_loss: 0.4147 - val_acc: 0.8500\n"
     ]
    }
   ],
   "source": [
    "history=model.fit(input_train,y_train,batch_size=15,epochs=100,validation_data=(x_val,y_val))"
   ]
  },
  {
   "cell_type": "code",
   "execution_count": 411,
   "metadata": {},
   "outputs": [
    {
     "name": "stdout",
     "output_type": "stream",
     "text": [
      "20\n"
     ]
    }
   ],
   "source": [
    "obj_r=open(\"./test/json/wrong_test_fdomain.json\")\n",
    "obj_r2 = open(\"./test/json/wrong_test_type_fdomain.json\")\n",
    "\n",
    "\n",
    "test = json.load(obj_r)\n",
    "test = np.array(test)\n",
    "t = json.load(obj_r2)\n",
    "print(len(test))\n",
    "t = np.array(t)\n",
    "for i in range(len(t)):\n",
    "    if t[i]!=0:\n",
    "        t[i] = 1\n",
    "test_standard = t"
   ]
  },
  {
   "cell_type": "code",
   "execution_count": 412,
   "metadata": {},
   "outputs": [
    {
     "name": "stdout",
     "output_type": "stream",
     "text": [
      "实际： [1 0 0 1 0 1 1 1 1 0 1 1 0 1 1 1 1 0 1 1]\n",
      "预测 [1, 1, 1, 1, 1, 1, 1, 0, 1, 1, 1, 1, 1, 1, 1, 0, 1, 1, 1, 0]\n",
      "预测概率 [0.017334223, 1.0, 0.2047863, 0.07450569, 0.1809575, 1.0, 0.9997599, 0.69028664, 1.0, 0.9999995, 0.99999964, 0.81673133, 1.0, 1.0, 1.0, 0.69028664, 1.0, 0.99629843, 1.0, 0.69028664]\n",
      "1 0\n",
      "2 0\n",
      "4 0\n",
      "7 1\n",
      "9 0\n",
      "12 0\n",
      "15 1\n",
      "17 0\n",
      "19 1\n",
      "总量： 20 错误量： 9 0量： 6\n",
      "正确率： 0.55\n"
     ]
    }
   ],
   "source": [
    "wrongfile_list=[]\n",
    "predict = model.predict(test)\n",
    "predict_type = []\n",
    "predict_proba = []\n",
    "for i in range(len(predict)):\n",
    "    index = np.argmax(predict[i])\n",
    "    predict_proba.append(predict[i][index]) \n",
    "    predict_type.append(index)\n",
    "\n",
    "print(\"实际：\",test_standard)\n",
    "print(\"预测\",predict_type)\n",
    "print(\"预测概率\",predict_proba)\n",
    "num = 0\n",
    "wrong_num = 0\n",
    "num_0 = 0\n",
    "for i in range(len(predict_type)):\n",
    "    if test_standard[i]==0:\n",
    "        num_0 += 1\n",
    "    if abs(predict_type[i] - test_standard[i])==0:\n",
    "        num += 1\n",
    "    else:\n",
    "        wrong_num += 1\n",
    "        print(i,test_standard[i])\n",
    "accuracy = num/len(predict_type)\n",
    "# print(predict_note)\n",
    "# print(test_standard)\n",
    "print(\"总量：\",len(predict_type),\"错误量：\",wrong_num,\"0量：\",num_0)\n",
    "print(\"正确率：\",accuracy)"
   ]
  },
  {
   "cell_type": "code",
   "execution_count": 413,
   "metadata": {},
   "outputs": [
    {
     "name": "stdout",
     "output_type": "stream",
     "text": [
      "dict_keys(['val_loss', 'val_acc', 'loss', 'acc'])\n"
     ]
    },
    {
     "data": {
      "image/png": "[encoded data removed]",
      "text/plain": [
       "<Figure size 432x288 with 1 Axes>"
      ]
     },
     "metadata": {},
     "output_type": "display_data"
    }
   ],
   "source": [
    "import matplotlib.pyplot as plt\n",
    "history_dict = history.history\n",
    "loss_values = history_dict['loss']\n",
    "print(history_dict.keys())\n",
    "val_loss_values = history_dict['val_loss']\n",
    "acc = history_dict['acc']\n",
    "epochs = range(1, len(loss_values) + 1)\n",
    "plt.plot(epochs, loss_values, 'bo', label='Training loss')\n",
    "plt.plot(epochs, val_loss_values, 'b', label='Validation loss')\n",
    "plt.title('Training and validation loss')\n",
    "plt.xlabel('Epochs')\n",
    "plt.ylabel('Loss')\n",
    "plt.legend()\n",
    "plt.show()"
   ]
  },
  {
   "cell_type": "code",
   "execution_count": null,
   "metadata": {
    "collapsed": true
   },
   "outputs": [],
   "source": []
  },
  {
   "cell_type": "code",
   "execution_count": null,
   "metadata": {
    "collapsed": true
   },
   "outputs": [],
   "source": []
  },
  {
   "cell_type": "code",
   "execution_count": null,
   "metadata": {
    "collapsed": true
   },
   "outputs": [],
   "source": []
  },
  {
   "cell_type": "code",
   "execution_count": null,
   "metadata": {
    "collapsed": true
   },
   "outputs": [],
   "source": []
  },
  {
   "cell_type": "code",
   "execution_count": null,
   "metadata": {
    "collapsed": true
   },
   "outputs": [],
   "source": []
  },
  {
   "cell_type": "code",
   "execution_count": null,
   "metadata": {
    "collapsed": true
   },
   "outputs": [],
   "source": []
  },
  {
   "cell_type": "code",
   "execution_count": null,
   "metadata": {
    "collapsed": true
   },
   "outputs": [],
   "source": []
  }
 ],
 "metadata": {
  "kernelspec": {
   "display_name": "Python 3",
   "language": "python",
   "name": "python3"
  },
  "language_info": {
   "codemirror_mode": {
    "name": "ipython",
    "version": 3
   },
   "file_extension": ".py",
   "mimetype": "text/x-python",
   "name": "python",
   "nbconvert_exporter": "python",
   "pygments_lexer": "ipython3",
   "version": "3.6.3"
  }
 },
 "nbformat": 4,
 "nbformat_minor": 2
}
