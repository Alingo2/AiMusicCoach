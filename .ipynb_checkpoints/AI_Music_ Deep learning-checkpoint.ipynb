{
 "cells": [
  {
   "cell_type": "code",
   "execution_count": 32,
   "metadata": {},
   "outputs": [],
   "source": [
    "from keras import models\n",
    "from keras import layers\n",
    "import numpy as np"
   ]
  },
  {
   "cell_type": "code",
   "execution_count": 33,
   "metadata": {
    "scrolled": true
   },
   "outputs": [],
   "source": [
    "model = models.Sequential()\n",
    "model.add(layers.Dense(32,activation='relu',input_shape=(44,)))\n",
    "model.add(layers.Dense(1))"
   ]
  },
  {
   "cell_type": "code",
   "execution_count": 34,
   "metadata": {
    "scrolled": true
   },
   "outputs": [],
   "source": [
    "model.compile(optimizer='rmsprop', loss='binary_crossentropy', metrics=['acc'])"
   ]
  },
  {
   "cell_type": "code",
   "execution_count": 35,
   "metadata": {},
   "outputs": [
    {
     "name": "stdout",
     "output_type": "stream",
     "text": [
      "(5, 44)      (5,)       (1, 44)\n"
     ]
    }
   ],
   "source": [
    "input_train=[[1,2,3,4,5,1,2,3,4,5,1,2,3,4,5,1,2,3,4,5,1,2,3,4,5,1,2,3,4,5,1,2,3,4,5,1,2,3,4,5,1,2,3,4],\n",
    "             [1,2,3,4,5,6,1,2,3,4,5,1,2,3,4,5,6,1,2,3,4,5,1,2,3,4,5,6,1,2,3,4,5,1,2,3,4,5,6,1,2,3,4,5],\n",
    "             [1,2,1,2,1,2,1,2,1,2,1,2,1,2,1,2,1,2,1,2,1,2,1,2,1,2,1,2,1,2,1,2,1,2,1,2,1,2,1,2,1,2,1,2],\n",
    "             [1,1,2,1,1,1,2,1,1,1,2,1,1,1,2,1,1,1,2,1,1,1,2,1,1,1,2,1,1,1,2,1,1,1,2,1,1,1,2,1,1,1,2,1],\n",
    "             [1,1,1,1,1,1,2,1,1,1,1,1,1,2,1,1,1,1,1,1,2,1,1,1,1,1,1,2,1,1,1,1,1,1,2,1,1,1,1,1,1,2,1,1]]\n",
    "input_train = np.array(input_train)\n",
    "y_train=[5,11,2,4,7]\n",
    "y_train = np.array(y_train)\n",
    "input_test=[[2,2,2,3,2,2,2,3,2,2,2,3,2,2,2,3,2,2,2,3,2,2,2,3,2,2,2,3,2,2,2,3,2,2,2,3,2,2,2,3,2,2,2,3]]\n",
    "input_test = np.array(input_test)\n",
    "print(input_train.shape,\"    \",y_train.shape,\"     \",input_test.shape)\n",
    "y_test=[4]"
   ]
  },
  {
   "cell_type": "code",
   "execution_count": 37,
   "metadata": {},
   "outputs": [
    {
     "name": "stdout",
     "output_type": "stream",
     "text": [
      "Epoch 1/5\n",
      "5/5 [==============================] - 0s 44ms/step - loss: -76.5234 - acc: 0.2000\n",
      "Epoch 2/5\n",
      "5/5 [==============================] - 0s 3ms/step - loss: -76.5234 - acc: 0.2000\n",
      "Epoch 3/5\n",
      "5/5 [==============================] - 0s 3ms/step - loss: -76.5234 - acc: 0.2000 \n",
      "Epoch 4/5\n",
      "5/5 [==============================] - 0s 3ms/step - loss: -76.5234 - acc: 0.2000\n",
      "Epoch 5/5\n",
      "5/5 [==============================] - 0s 3ms/step - loss: -76.5234 - acc: 0.2000\n"
     ]
    }
   ],
   "source": [
    "history=model.fit(input_train,y_train,batch_size=1,epochs=5)"
   ]
  },
  {
   "cell_type": "code",
   "execution_count": 40,
   "metadata": {},
   "outputs": [
    {
     "ename": "SyntaxError",
     "evalue": "unexpected EOF while parsing (<ipython-input-40-0caaf9c8d3c2>, line 15)",
     "output_type": "error",
     "traceback": [
      "\u001b[1;36m  File \u001b[1;32m\"<ipython-input-40-0caaf9c8d3c2>\"\u001b[1;36m, line \u001b[1;32m15\u001b[0m\n\u001b[1;33m    # plt.show()\u001b[0m\n\u001b[1;37m                ^\u001b[0m\n\u001b[1;31mSyntaxError\u001b[0m\u001b[1;31m:\u001b[0m unexpected EOF while parsing\n"
     ]
    }
   ],
   "source": [
    "history_dict = history.history\n",
    "history_dict.keys() \n",
    "dict_keys(['val_acc', 'acc', 'val_loss', 'loss']\n",
    "# import matplotlib.pyplot as plt \n",
    "# history_dict = history.history \n",
    "# loss_values = history_dict['loss'] \n",
    "# val_loss_values = history_dict['val_loss'] \n",
    "# epochs = range(1, len(loss_values) + 1) \n",
    "# plt.plot(epochs, loss_values, 'bo', label='Training loss')  \n",
    "# plt.plot(epochs, val_loss_values, 'b', label='Validation loss')  \n",
    "# plt.title('Training and validation loss') \n",
    "# plt.xlabel('Epochs') \n",
    "# plt.ylabel('Loss') \n",
    "# plt.legend() \n",
    "# plt.show()"
   ]
  },
  {
   "cell_type": "code",
   "execution_count": null,
   "metadata": {
    "collapsed": true
   },
   "outputs": [],
   "source": []
  }
 ],
 "metadata": {
  "kernelspec": {
   "display_name": "Python 3",
   "language": "python",
   "name": "python3"
  },
  "language_info": {
   "codemirror_mode": {
    "name": "ipython",
    "version": 3
   },
   "file_extension": ".py",
   "mimetype": "text/x-python",
   "name": "python",
   "nbconvert_exporter": "python",
   "pygments_lexer": "ipython3",
   "version": "3.6.3"
  }
 },
 "nbformat": 4,
 "nbformat_minor": 2
}
