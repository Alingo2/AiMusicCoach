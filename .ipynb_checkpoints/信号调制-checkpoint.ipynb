{
 "cells": [
  {
   "cell_type": "markdown",
   "metadata": {},
   "source": [
    "<h1 align = \"center\">《无线通信中的人工智能》案例实践报告</h1>\n",
    "<h2 align = \"right\">通信工程 2018211129班</h2>\n",
    "<h2 align = \"right\">2020/11/17 2018210407 冯韵菱</h2>\n",
    "## 一、基于AI的信号检测技术\n",
    "## 一、实验目的\n",
    "### 在这节课中，我们学习了无线通信中的物理层技术及过程，信号需要经过信源编码、信道编码、调制等等多个过程来到接收端，同时在接收端我们需要检测、解调、信道编码、信源译码等过程。\n",
    "### 我们还知道，对于有着不同信噪比、信道带宽要求的信号，我们可以采用不同的调制方式来达到最大的利用率和效率，这就引出了调制解调的自适应算法，但这在传统做法中需要发送多个指示信号告诉收端其目前的调制方式，会占用大量的资源和耗费发送功率。\n",
    "\n",
    "### 但在课上，老师给我们讲授了一种全新的方法，就是利用机器学习与自适应学习相结合，这样在发端我们不需要额外发送信息告诉收端其调制方式，只需要收端利用算法自己识别出其调制方式即可，这样可以大大提高整个系统的效率和灵活性，而下面实现的即是其识别过程。"
   ]
  },
  {
   "cell_type": "code",
   "execution_count": null,
   "metadata": {
    "collapsed": true
   },
   "outputs": [],
   "source": []
  }
 ],
 "metadata": {
  "kernelspec": {
   "display_name": "Python 3",
   "language": "python",
   "name": "python3"
  },
  "language_info": {
   "codemirror_mode": {
    "name": "ipython",
    "version": 3
   },
   "file_extension": ".py",
   "mimetype": "text/x-python",
   "name": "python",
   "nbconvert_exporter": "python",
   "pygments_lexer": "ipython3",
   "version": "3.6.3"
  }
 },
 "nbformat": 4,
 "nbformat_minor": 2
}
