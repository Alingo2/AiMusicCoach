{
 "cells": [
  {
   "cell_type": "code",
   "execution_count": 39,
   "metadata": {},
   "outputs": [],
   "source": [
    "from keras import models\n",
    "from keras import layers\n",
    "import numpy as np\n",
    "import math\n",
    "import json"
   ]
  },
  {
   "cell_type": "code",
   "execution_count": 40,
   "metadata": {},
   "outputs": [],
   "source": [
    "model = models.Sequential()\n",
    "model.add(layers.Dense(32,activation='relu',input_shape=(1600,)))\n",
    "model.add(layers.Dense(64,activation='relu',input_shape=(1600,)))\n",
    "model.add(layers.Dense(45,activation='softmax'))"
   ]
  },
  {
   "cell_type": "code",
   "execution_count": 41,
   "metadata": {},
   "outputs": [],
   "source": [
    "model.compile(optimizer='rmsprop',\n",
    "             loss='categorical_crossentropy',\n",
    "             metrics=['accuracy'])"
   ]
  },
  {
   "cell_type": "code",
   "execution_count": 42,
   "metadata": {},
   "outputs": [],
   "source": [
    "obj_r=open(\"./test/json/t_domain_data2.json\")\n",
    "obj_r2 = open(\"./test/json/t_domain_pitch2.json\")\n",
    "input_train = json.load(obj_r)\n",
    "input_train = np.array(input_train)\n",
    "y = json.load(obj_r2)\n",
    "y = np.array(y)\n",
    "y = y*2093.004\n",
    "\n",
    "obj_r3=open(\"./test/json/t_domain_data1.json\")\n",
    "obj_r4 = open(\"./test/json/t_domain_pitch1.json\")\n",
    "test = json.load(obj_r3)\n",
    "test = np.array(test)\n",
    "t = json.load(obj_r4)\n",
    "t = np.array(t)\n",
    "t = t*2093.004\n"
   ]
  },
  {
   "cell_type": "code",
   "execution_count": null,
   "metadata": {},
   "outputs": [],
   "source": [
    "def fre_to_note_piano(fre):\n",
    "    index = round(math.log(fre / 27.5,2**(1/12)))\n",
    "    dict = [\"A1 \",\"#A1 \",\"B1 \",\"C2 \",\"#C2 \",\"D2 \",\"#D2 \",\"E2 \",\"F2 \",\"#F2 \",\"G2 \",\"#G2 \",\"A2 \",\"#A2 \",\"B2 \",\"C3 \",\"#C3 \",\"D3 \",\"#D3 \",\"E3 \",\"F3 \",\"#F3 \",\"G3 \",\"#G3 \",\"A3 \",\"#A3 \",\"B3 \",\"C4 \",\"#C4 \",\"D4 \",\"#D4 \",\"E4 \",\"F4 \",\"#F4 \",\"G4 \",\"#G4 \",\"A4 \", \"#A4 \", \"B4 \", \"C5 \", \"#C5 \", \"D5 \", \"#D5 \", \"E5 \",\"F5 \",\"#F5 \",\"G5 \",\"#G5 \",\"A5 \", \"#A5 \", \"B5 \", \"C6 \", \"#C6 \", \"D6 \", \"#D6 \", \"E6 \",\n",
    "    \"F6 \",\"#F6 \",\"G6 \",\"#G6 \",\"A6 \", \"#A6 \", \"B6 \", \"C7 \", \"#C7 \", \"D7 \", \"#D7 \", \"E7 \",\"F7 \",\"#F7 \",\"G7 \",\"#G7 \",\"A7 \", \"#A7 \", \"B7 \", \"C8 \",\"#C8 \",\"D8 \",\"#D8 \",\"E8 \",\"F8 \",\"#F8 \",\"G8 \",\"#G8 \",\"A8 \",\"#A8 \",\"B8 \",\"C9 \",\"#C9 \", \"D9 \", \"#D9 \", \"E9 \",\"F9 \",\"#F9 \",\"G9 \",\"#G9 \",\"A9 \", \"#A9 \", \"B9 \", \"C10 \"]\n",
    "    return index+21\n",
    "y_train = np.zeros((len(y),45))\n",
    "test_standard = []\n",
    "for i in range(len(y)):\n",
    "    index = fre_to_note_piano(y[i])\n",
    "    y_train[i][index-40] = 1\n",
    "\n",
    "for j in range(len(t)):\n",
    "    index = fre_to_note_piano(t[j])\n",
    "    test_standard.append(index)\n",
    "\n"
   ]
  },
  {
   "cell_type": "code",
   "execution_count": null,
   "metadata": {},
   "outputs": [
    {
     "name": "stdout",
     "output_type": "stream",
     "text": [
      "WARNING:tensorflow:From D:\\MyCode\\Anaconda\\envs\\AiMusic\\lib\\site-packages\\tensorflow\\python\\ops\\math_grad.py:1250: add_dispatch_support.<locals>.wrapper (from tensorflow.python.ops.array_ops) is deprecated and will be removed in a future version.\n",
      "Instructions for updating:\n",
      "Use tf.where in 2.0, which has the same broadcast rule as np.where\n",
      "WARNING:tensorflow:From D:\\MyCode\\Anaconda\\envs\\AiMusic\\lib\\site-packages\\keras\\backend\\tensorflow_backend.py:1033: The name tf.assign_add is deprecated. Please use tf.compat.v1.assign_add instead.\n",
      "\n",
      "Epoch 1/1000\n"
     ]
    }
   ],
   "source": [
    "history=model.fit(input_train,y_train,batch_size=2,epochs=1000)"
   ]
  },
  {
   "cell_type": "code",
   "execution_count": null,
   "metadata": {
    "collapsed": true
   },
   "outputs": [],
   "source": [
    "predict = model.predict(test)\n",
    "predict_note = []\n",
    "for i in range(len(predict)):\n",
    "    index = np.argmax(predict[i])\n",
    "    predict_note.append(index+40)\n",
    "\n",
    "num = 0\n",
    "wrong_num = 0\n",
    "for i in range(len(predict_note)):\n",
    "    if abs(predict_note[i] - test_standard[i])==0:\n",
    "        num += 1\n",
    "    else:\n",
    "        wrong_num += 1\n",
    "accuracy = num/len(predict_note)\n",
    "print(predict_note)\n",
    "print(test_standard)\n",
    "dis = []\n",
    "for i in range(len(predict_note)):\n",
    "    dis.append(abs(predict_note[i] - test_standard[i]))\n",
    "print(dis)\n",
    "print(\"总量：\",len(predict_note),\"错误量：\",wrong_num)\n",
    "print(\"正确率：\",accuracy)"
   ]
  },
  {
   "cell_type": "code",
   "execution_count": null,
   "metadata": {
    "collapsed": true
   },
   "outputs": [],
   "source": [
    "import matplotlib.pyplot as plt\n",
    "history_dict = history.history\n",
    "loss_values = history_dict['loss']\n",
    "print(history_dict.keys())\n",
    "\n",
    "acc = history_dict['acc']\n",
    "epochs = range(1, len(loss_values) + 1)\n",
    "plt.plot(epochs, loss_values, 'bo', label='Training loss')\n",
    "plt.plot(epochs, acc, 'b', label='acc')\n",
    "plt.title('Training and validation loss')\n",
    "plt.xlabel('Epochs')\n",
    "plt.ylabel('Loss')\n",
    "plt.legend()\n",
    "plt.show()"
   ]
  },
  {
   "cell_type": "code",
   "execution_count": null,
   "metadata": {
    "collapsed": true
   },
   "outputs": [],
   "source": []
  },
  {
   "cell_type": "code",
   "execution_count": null,
   "metadata": {
    "collapsed": true
   },
   "outputs": [],
   "source": []
  },
  {
   "cell_type": "code",
   "execution_count": null,
   "metadata": {
    "collapsed": true
   },
   "outputs": [],
   "source": []
  }
 ],
 "metadata": {
  "kernelspec": {
   "display_name": "Python 3",
   "language": "python",
   "name": "python3"
  },
  "language_info": {
   "codemirror_mode": {
    "name": "ipython",
    "version": 3
   },
   "file_extension": ".py",
   "mimetype": "text/x-python",
   "name": "python",
   "nbconvert_exporter": "python",
   "pygments_lexer": "ipython3",
   "version": "3.6.3"
  }
 },
 "nbformat": 4,
 "nbformat_minor": 2
}
