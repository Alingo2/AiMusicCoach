{
 "cells": [
  {
   "cell_type": "code",
   "execution_count": 45,
   "metadata": {},
   "outputs": [],
   "source": [
    "from keras import models\n",
    "from keras import layers\n",
    "import numpy as np\n",
    "import math\n",
    "import json"
   ]
  },
  {
   "cell_type": "code",
   "execution_count": 46,
   "metadata": {},
   "outputs": [],
   "source": [
    "model = models.Sequential()\n",
    "model.add(layers.Dense(32,activation='relu',input_shape=(1600,)))\n",
    "model.add(layers.Dense(64,activation='relu',input_shape=(1600,)))\n",
    "model.add(layers.Dense(45,activation='softmax'))"
   ]
  },
  {
   "cell_type": "code",
   "execution_count": 47,
   "metadata": {},
   "outputs": [],
   "source": [
    "model.compile(optimizer='rmsprop',\n",
    "             loss='categorical_crossentropy',\n",
    "             metrics=['accuracy'])"
   ]
  },
  {
   "cell_type": "code",
   "execution_count": 48,
   "metadata": {},
   "outputs": [],
   "source": [
    "obj_r=open(\"./test/json/t_domain_data2.json\")\n",
    "obj_r2 = open(\"./test/json/t_domain_pitch2.json\")\n",
    "input_train = json.load(obj_r)\n",
    "input_train = np.array(input_train)\n",
    "y = json.load(obj_r2)\n",
    "y = np.array(y)\n",
    "y = y*2093.004\n",
    "\n",
    "obj_r3=open(\"./test/json/t_domain_data1.json\")\n",
    "obj_r4 = open(\"./test/json/t_domain_pitch1.json\")\n",
    "test = json.load(obj_r3)\n",
    "test = np.array(test)\n",
    "t = json.load(obj_r4)\n",
    "t = np.array(t)\n",
    "t = t*2093.004\n"
   ]
  },
  {
   "cell_type": "code",
   "execution_count": 49,
   "metadata": {},
   "outputs": [],
   "source": [
    "def fre_to_note_piano(fre):\n",
    "    index = round(math.log(fre / 27.5,2**(1/12)))\n",
    "    dict = [\"A1 \",\"#A1 \",\"B1 \",\"C2 \",\"#C2 \",\"D2 \",\"#D2 \",\"E2 \",\"F2 \",\"#F2 \",\"G2 \",\"#G2 \",\"A2 \",\"#A2 \",\"B2 \",\"C3 \",\"#C3 \",\"D3 \",\"#D3 \",\"E3 \",\"F3 \",\"#F3 \",\"G3 \",\"#G3 \",\"A3 \",\"#A3 \",\"B3 \",\"C4 \",\"#C4 \",\"D4 \",\"#D4 \",\"E4 \",\"F4 \",\"#F4 \",\"G4 \",\"#G4 \",\"A4 \", \"#A4 \", \"B4 \", \"C5 \", \"#C5 \", \"D5 \", \"#D5 \", \"E5 \",\"F5 \",\"#F5 \",\"G5 \",\"#G5 \",\"A5 \", \"#A5 \", \"B5 \", \"C6 \", \"#C6 \", \"D6 \", \"#D6 \", \"E6 \",\n",
    "    \"F6 \",\"#F6 \",\"G6 \",\"#G6 \",\"A6 \", \"#A6 \", \"B6 \", \"C7 \", \"#C7 \", \"D7 \", \"#D7 \", \"E7 \",\"F7 \",\"#F7 \",\"G7 \",\"#G7 \",\"A7 \", \"#A7 \", \"B7 \", \"C8 \",\"#C8 \",\"D8 \",\"#D8 \",\"E8 \",\"F8 \",\"#F8 \",\"G8 \",\"#G8 \",\"A8 \",\"#A8 \",\"B8 \",\"C9 \",\"#C9 \", \"D9 \", \"#D9 \", \"E9 \",\"F9 \",\"#F9 \",\"G9 \",\"#G9 \",\"A9 \", \"#A9 \", \"B9 \", \"C10 \"]\n",
    "    return index+21\n",
    "y_train = np.zeros((len(y),45))\n",
    "test_standard = []\n",
    "for i in range(len(y)):\n",
    "    index = fre_to_note_piano(y[i])\n",
    "    y_train[i][index-40] = 1\n",
    "\n",
    "for j in range(len(t)):\n",
    "    index = fre_to_note_piano(t[j])\n",
    "    test_standard.append(index)\n",
    "\n"
   ]
  },
  {
   "cell_type": "code",
   "execution_count": null,
   "metadata": {},
   "outputs": [
    {
     "name": "stdout",
     "output_type": "stream",
     "text": [
      "Epoch 1/1000\n",
      "756/756 [==============================] - 1s 829us/step - loss: 3.0814 - acc: 0.2103\n",
      "Epoch 2/1000\n",
      "756/756 [==============================] - 1s 803us/step - loss: 3.1084 - acc: 0.2024\n",
      "Epoch 3/1000\n",
      "756/756 [==============================] - 1s 768us/step - loss: 3.0940 - acc: 0.1984\n",
      "Epoch 4/1000\n",
      "756/756 [==============================] - 1s 741us/step - loss: 3.1104 - acc: 0.2037\n",
      "Epoch 5/1000\n",
      "756/756 [==============================] - 1s 716us/step - loss: 3.2153 - acc: 0.2037\n",
      "Epoch 6/1000\n",
      "756/756 [==============================] - 1s 738us/step - loss: 3.0943 - acc: 0.2090\n",
      "Epoch 7/1000\n",
      "756/756 [==============================] - 1s 720us/step - loss: 3.0848 - acc: 0.2090\n",
      "Epoch 8/1000\n",
      "756/756 [==============================] - 1s 715us/step - loss: 3.0863 - acc: 0.2050\n",
      "Epoch 9/1000\n",
      "756/756 [==============================] - 1s 720us/step - loss: 3.0533 - acc: 0.2103\n",
      "Epoch 10/1000\n",
      "756/756 [==============================] - 1s 843us/step - loss: 3.1046 - acc: 0.2063\n",
      "Epoch 11/1000\n",
      "756/756 [==============================] - 1s 788us/step - loss: 3.0715 - acc: 0.2090\n",
      "Epoch 12/1000\n",
      "238/756 [========>.....................] - ETA: 0s - loss: 3.0753 - acc: 0.2101 "
     ]
    }
   ],
   "source": [
    "history=model.fit(input_train,y_train,batch_size=2,epochs=1000)"
   ]
  },
  {
   "cell_type": "code",
   "execution_count": 54,
   "metadata": {},
   "outputs": [
    {
     "name": "stdout",
     "output_type": "stream",
     "text": [
      "[78, 78, 52, 78, 78, 78, 78, 78, 78, 78, 78, 78, 78, 55, 78, 78, 78, 78, 62, 78, 78, 78, 78, 78, 55, 44, 47, 78, 43, 78, 78, 78, 78, 78, 63, 78, 78, 78, 55, 62, 55, 78, 78, 78, 78, 78, 78, 78, 78, 78, 78, 78, 41, 78, 62, 43, 43, 55, 78, 78, 78, 61, 78, 78, 55, 78, 78, 78, 52, 78, 44, 78, 57, 78, 57, 78, 78, 78, 44, 78, 78, 78, 69, 78, 63, 78, 78, 78, 57, 78, 43, 78, 41, 78, 52, 57, 78, 78, 44, 78, 78, 78, 78, 78, 78, 78, 57, 78, 78, 78, 44, 78, 78, 43, 44, 78, 78, 78, 78, 78, 57, 78, 78, 78, 78, 78, 62, 78, 78, 78, 78, 78, 78, 78, 78, 78, 44, 78, 44, 78, 78, 69, 78, 78, 78, 78, 78, 78, 78, 78, 78, 78, 83, 44, 78, 55, 78, 78, 78, 62, 78, 78, 78, 78, 78, 62, 78, 78, 78, 78, 78, 78, 78, 44, 78, 78, 78, 78, 78, 78, 78, 52, 78, 78, 78, 44, 78, 78, 78, 78, 78, 78, 78, 63, 78, 78, 57, 62, 78, 78, 78, 61, 78, 78, 78, 78, 78, 78, 78, 78, 78, 78, 78, 78, 57, 55, 47, 61, 78, 78, 78, 78, 78, 63, 78, 78, 44, 69, 78, 78, 78, 78, 78, 78, 78, 78, 78, 78, 78, 78, 78, 78, 61, 78, 78, 78, 78, 78, 78, 78, 78, 78, 78, 78, 78]\n",
      "[66, 70, 68, 45, 64, 61, 77, 74, 64, 67, 41, 53, 81, 42, 68, 50, 46, 71, 76, 65, 64, 44, 56, 77, 41, 62, 42, 76, 51, 60, 65, 58, 73, 72, 55, 48, 71, 80, 67, 73, 40, 75, 62, 82, 56, 76, 52, 65, 66, 68, 41, 74, 46, 51, 61, 63, 41, 42, 76, 57, 82, 48, 60, 75, 51, 42, 64, 72, 53, 61, 83, 76, 44, 77, 49, 60, 72, 50, 44, 73, 74, 51, 69, 60, 56, 68, 62, 53, 63, 40, 51, 44, 42, 67, 42, 62, 46, 51, 52, 82, 73, 67, 69, 80, 80, 74, 73, 61, 42, 74, 74, 60, 71, 45, 45, 76, 53, 84, 40, 84, 49, 84, 70, 54, 76, 77, 61, 48, 45, 77, 71, 49, 58, 77, 67, 81, 45, 51, 69, 56, 77, 69, 47, 57, 45, 66, 70, 43, 43, 57, 40, 52, 83, 44, 46, 73, 54, 52, 60, 83, 68, 54, 54, 80, 70, 83, 61, 80, 48, 57, 50, 63, 64, 59, 62, 40, 54, 76, 57, 67, 54, 59, 63, 80, 40, 62, 82, 48, 81, 68, 57, 84, 54, 71, 78, 48, 62, 83, 71, 55, 46, 61, 56, 51, 51, 83, 77, 77, 49, 43, 70, 60, 43, 51, 62, 63, 49, 59, 46, 50, 71, 63, 53, 43, 50, 77, 58, 69, 71, 50, 46, 72, 68, 68, 52, 75, 75, 72, 84, 80, 58, 41, 57, 65, 55, 64, 74, 56, 79, 74, 49, 63, 52, 70, 61]\n",
      "[12, 8, 16, 33, 14, 17, 1, 4, 14, 11, 37, 25, 3, 13, 10, 28, 32, 7, 14, 13, 14, 34, 22, 1, 14, 18, 5, 2, 8, 18, 13, 20, 5, 6, 8, 30, 7, 2, 12, 11, 15, 3, 16, 4, 22, 2, 26, 13, 12, 10, 37, 4, 5, 27, 1, 20, 2, 13, 2, 21, 4, 13, 18, 3, 4, 36, 14, 6, 1, 17, 39, 2, 13, 1, 8, 18, 6, 28, 0, 5, 4, 27, 0, 18, 7, 10, 16, 25, 6, 38, 8, 34, 1, 11, 10, 5, 32, 27, 8, 4, 5, 11, 9, 2, 2, 4, 16, 17, 36, 4, 30, 18, 7, 2, 1, 2, 25, 6, 38, 6, 8, 6, 8, 24, 2, 1, 1, 30, 33, 1, 7, 29, 20, 1, 11, 3, 1, 27, 25, 22, 1, 0, 31, 21, 33, 12, 8, 35, 35, 21, 38, 26, 0, 0, 32, 18, 24, 26, 18, 21, 10, 24, 24, 2, 8, 21, 17, 2, 30, 21, 28, 15, 14, 15, 16, 38, 24, 2, 21, 11, 24, 7, 15, 2, 38, 18, 4, 30, 3, 10, 21, 6, 24, 8, 0, 30, 5, 21, 7, 23, 32, 0, 22, 27, 27, 5, 1, 1, 29, 35, 8, 18, 35, 27, 5, 8, 2, 2, 32, 28, 7, 15, 25, 20, 28, 1, 14, 0, 7, 28, 32, 6, 10, 10, 26, 3, 3, 6, 6, 2, 20, 37, 4, 13, 23, 14, 4, 22, 1, 4, 29, 15, 26, 8, 17]\n",
      "总量： 255 错误量： 247\n",
      "正确率： 0.03137254901960784\n"
     ]
    }
   ],
   "source": [
    "predict = model.predict(test)\n",
    "predict_note = []\n",
    "for i in range(len(predict)):\n",
    "    index = np.argmax(predict[i])\n",
    "    predict_note.append(index+40)\n",
    "\n",
    "num = 0\n",
    "wrong_num = 0\n",
    "for i in range(len(predict_note)):\n",
    "    if abs(predict_note[i] - test_standard[i])==0:\n",
    "        num += 1\n",
    "    else:\n",
    "        wrong_num += 1\n",
    "accuracy = num/len(predict_note)\n",
    "print(predict_note)\n",
    "print(test_standard)\n",
    "dis = []\n",
    "for i in range(len(predict_note)):\n",
    "    dis.append(abs(predict_note[i] - test_standard[i]))\n",
    "print(dis)\n",
    "print(\"总量：\",len(predict_note),\"错误量：\",wrong_num)\n",
    "print(\"正确率：\",accuracy)"
   ]
  },
  {
   "cell_type": "code",
   "execution_count": 52,
   "metadata": {},
   "outputs": [
    {
     "name": "stdout",
     "output_type": "stream",
     "text": [
      "dict_keys(['loss', 'acc'])\n"
     ]
    },
    {
     "data": {
      "image/png": "[encoded data removed]",
      "text/plain": [
       "<Figure size 432x288 with 1 Axes>"
      ]
     },
     "metadata": {},
     "output_type": "display_data"
    }
   ],
   "source": [
    "import matplotlib.pyplot as plt\n",
    "history_dict = history.history\n",
    "loss_values = history_dict['loss']\n",
    "print(history_dict.keys())\n",
    "\n",
    "acc = history_dict['acc']\n",
    "epochs = range(1, len(loss_values) + 1)\n",
    "plt.plot(epochs, loss_values, 'bo', label='Training loss')\n",
    "plt.plot(epochs, acc, 'b', label='acc')\n",
    "plt.title('Training and validation loss')\n",
    "plt.xlabel('Epochs')\n",
    "plt.ylabel('Loss')\n",
    "plt.legend()\n",
    "plt.show()"
   ]
  },
  {
   "cell_type": "code",
   "execution_count": null,
   "metadata": {
    "collapsed": true
   },
   "outputs": [],
   "source": []
  },
  {
   "cell_type": "code",
   "execution_count": null,
   "metadata": {
    "collapsed": true
   },
   "outputs": [],
   "source": []
  },
  {
   "cell_type": "code",
   "execution_count": null,
   "metadata": {
    "collapsed": true
   },
   "outputs": [],
   "source": []
  }
 ],
 "metadata": {
  "kernelspec": {
   "display_name": "Python 3",
   "language": "python",
   "name": "python3"
  },
  "language_info": {
   "codemirror_mode": {
    "name": "ipython",
    "version": 3
   },
   "file_extension": ".py",
   "mimetype": "text/x-python",
   "name": "python",
   "nbconvert_exporter": "python",
   "pygments_lexer": "ipython3",
   "version": "3.6.3"
  }
 },
 "nbformat": 4,
 "nbformat_minor": 2
}
